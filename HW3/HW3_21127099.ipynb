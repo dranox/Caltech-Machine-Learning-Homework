{
 "cells": [
  {
   "cell_type": "markdown",
   "metadata": {},
   "source": [
    "Homework 3: https://www.work.caltech.edu/homework/hw3.pdf\n",
    "\n",
    "Solution key 3: https://www.work.caltech.edu/homework/hw3_sol.pdf"
   ]
  },
  {
   "cell_type": "markdown",
   "metadata": {},
   "source": [
    "# Homework 3\n",
    "\n",
    "\n",
    "- Student Name: Nguyễn Tấn Lộc\n",
    "- Student ID: 21127099\n",
    "\n",
    "---"
   ]
  },
  {
   "cell_type": "markdown",
   "metadata": {},
   "source": [
    "## References:\n",
    "\n",
    "Lecture 05 - Training Versus Testing: https://youtu.be/SEYAnnLazMU\n",
    "\n",
    "Lecture 06 - Theory of Generalization: https://youtu.be/6FWRijsmLtE\n",
    "\n",
    "Growth function - Wikipedia. https://en.wikipedia.org/wiki/Growth_function.\n",
    "\n",
    "ECE595 / STAT598: Machine Learning I Lecture 26 Growth Function. https://engineering.purdue.edu/ChanGroup/ECE595/files/Lecture26_growth.pdf.\n",
    "\n",
    "machine learning - How to compute number of dichotomies/growth function .... https://stats.stackexchange.com/questions/304747/how-to-compute-number-of-dichotomies-growth-function-value.\n",
    "\n",
    "Growth functions and VC-dimension - Foundations of Machine Learning .... https://www.studocu.com/in/document/aligarh-muslim-university/foundations-of-machine-learning/growth-functions-and-vc-dimension/19581930."
   ]
  },
  {
   "cell_type": "markdown",
   "metadata": {},
   "source": [
    "---"
   ]
  },
  {
   "cell_type": "markdown",
   "metadata": {},
   "source": [
    "##  Generalization Error"
   ]
  },
  {
   "cell_type": "markdown",
   "metadata": {},
   "source": [
    "# 1 - 3"
   ]
  },
  {
   "cell_type": "markdown",
   "metadata": {},
   "source": [
    "### 1. The modified Hoeffding Inequality provides a way to characterize the generalization error with a probabilistic bound\n",
    "$$ P \\left( \\left| E_{\\text{in}}(g) - E_{\\text{out}}(g) \\right| > \\epsilon \\right) \\leq 2Me^{-2\\epsilon^2N} $$\n",
    "\n",
    "for any $ \\epsilon >0$. If we set $ \\epsilon = 0.05$ and want the probability bound $2Me^{-2\\epsilon^2N} $\n",
    "to be at most 0.03, what is the least number of examples N (among the given\n",
    "choices) needed for the case M = 1?"
   ]
  },
  {
   "cell_type": "markdown",
   "metadata": {},
   "source": [
    "[a] 500\n",
    "\n",
    "[b] 1000\n",
    "\n",
    "[c] 1500\n",
    "\n",
    "[d] 2000\n",
    "\n",
    "[e] More examples are needed."
   ]
  },
  {
   "cell_type": "markdown",
   "metadata": {},
   "source": [
    "## 1. Explanation and Answer\n",
    "<u><i><b>Explain</b></i></u>:\n",
    "\n",
    "$$ P \\left( \\left| E_{\\text{in}}(g) - E_{\\text{out}}(g) \\right| > \\epsilon \\right) \\leq 2Me^{-2\\epsilon^2N} $$\n",
    "\n",
    "$M = 1, \\epsilon =0.05 \\space and \\space bound \\leq 0.03$\n",
    "\n",
    "$2Me^{-2\\epsilon^2N} \\leq 0.03 \\Longleftrightarrow 2\\times1\\times e^{-2\\epsilon^2N} \\leq 0.03$\n",
    "\n",
    "$\\Longleftrightarrow  e^{-2\\epsilon^2N} \\leq 0.015 \\Longleftrightarrow N \\geq \\frac{\\ln(0.015)}{-0.005} \\thickapprox  839.941$\n",
    "\n",
    "<font color='yellow'><b>Therefore, the least number of examples N is: [b] 1000.</b></font>\n"
   ]
  },
  {
   "cell_type": "markdown",
   "metadata": {},
   "source": [
    "### 2. Repeat for the case M = 10."
   ]
  },
  {
   "cell_type": "markdown",
   "metadata": {},
   "source": [
    "[a] 500\n",
    "\n",
    "[b] 1000\n",
    "\n",
    "[c] 1500\n",
    "\n",
    "[d] 2000\n",
    "\n",
    "[e] More examples are needed."
   ]
  },
  {
   "cell_type": "markdown",
   "metadata": {},
   "source": [
    "## 2. Explanation and Answer\n",
    "<u><i><b>Explain</b></i></u>:\n",
    "\n",
    "$$ P \\left( \\left| E_{\\text{in}}(g) - E_{\\text{out}}(g) \\right| > \\epsilon \\right) \\leq 2Me^{-2\\epsilon^2N} $$\n",
    "\n",
    "$M = 1, \\epsilon =0.05 \\space and \\space bound \\leq 0.03$\n",
    "\n",
    "$2Me^{-2\\epsilon^2N} \\leq 0.03 \\Longleftrightarrow 2\\times10\\times e^{-2\\epsilon^2N} \\leq 0.03$\n",
    "\n",
    "$\\Longleftrightarrow  e^{-2\\epsilon^2N} \\leq 0.0015 \\Longleftrightarrow N \\geq \\frac{\\ln(0.0015)}{-0.005} \\thickapprox  1300.458$\n",
    "\n",
    "<font color='yellow'><b>Therefore, the closet answer is: [c] 1500.</b></font>\n"
   ]
  },
  {
   "cell_type": "markdown",
   "metadata": {},
   "source": [
    "### 3. Repeat for the case M = 100."
   ]
  },
  {
   "cell_type": "markdown",
   "metadata": {},
   "source": [
    "[a] 500\n",
    "\n",
    "[b] 1000\n",
    "\n",
    "[c] 1500\n",
    "\n",
    "[d] 2000\n",
    "\n",
    "[e] More examples are needed."
   ]
  },
  {
   "cell_type": "markdown",
   "metadata": {},
   "source": [
    "## 3. Explanation and Answer\n",
    "<u><i><b>Explain</b></i></u>:\n",
    "\n",
    "$$ P \\left( \\left| E_{\\text{in}}(g) - E_{\\text{out}}(g) \\right| > \\epsilon \\right) \\leq 2Me^{-2\\epsilon^2N} $$\n",
    "\n",
    "$M = 1, \\epsilon =0.05 \\space and \\space bound \\leq 0.03$\n",
    "\n",
    "$2Me^{-2\\epsilon^2N} \\leq 0.03 \\Longleftrightarrow 2\\times100\\times e^{-2\\epsilon^2N} \\leq 0.03$\n",
    "\n",
    "$\\Longleftrightarrow  e^{-2\\epsilon^2N} \\leq 0.00015 \\Longleftrightarrow N \\geq \\frac{\\ln(0.00015)}{-0.005} \\thickapprox 1760.975$\n",
    "\n",
    "<font color='yellow'><b>Therefore, the closet answer is: [d] 2000.</b></font>\n"
   ]
  },
  {
   "cell_type": "markdown",
   "metadata": {},
   "source": [
    "## Break Point"
   ]
  },
  {
   "cell_type": "markdown",
   "metadata": {},
   "source": [
    "### 4. As shown in class, the (smallest) break point for the Perceptron Model in the two-dimensional case ($R^2$) is 4 points. \n",
    "What is the smallest break point for\n",
    "the Perceptron Model in $R^3$? (i.e., instead of the hypothesis set consisting of\n",
    "separating lines, it consists of separating planes.)"
   ]
  },
  {
   "cell_type": "markdown",
   "metadata": {},
   "source": [
    "[a] 4\n",
    "\n",
    "[b] 5\n",
    "\n",
    "[c] 6\n",
    "\n",
    "[d] 7\n",
    "\n",
    "[e] 8"
   ]
  },
  {
   "cell_type": "markdown",
   "metadata": {},
   "source": [
    "## 4. Explanation and Answer\n",
    "<u><i><b>Explain</b></i></u>:\n",
    "\n",
    "After I saw reference from the following source, I have some conclusion: https://rstudio-pubs-static.s3.amazonaws.com/376525_cb5ef7e87d6549af997985b5871fd822.html\n",
    "\n",
    "Imagine I have 5 points in 3D space. If I try to use a 3D perceptron to separate these points into two groups, there's a problem.\n",
    "\n",
    "I think:\n",
    "- If I pick any 4 points out of these 5, I can always create a tetrahedron (like a pyramid-like shape) with those 4 points and the fifth point will end up outside this tetrahedron.\n",
    "\n",
    "- Now, this fifth point outside the tetrahedron lies in the shadow of one of the sides of the tetrahedron. This means it's \"covered\" by one of the sides of the tetrahedron.\n",
    "\n",
    "- Continue I color one of the points (let's call it x2) red, and the other three points (x1, x3, x5) blue. Any plane that separates the red point (x2) from the blue points (x1, x3, x5) has to put all the points in the shadow into the same side as the blue points. But this means the point outside the tetrahedron (x4) should also be blue, which messes up our color separation!!!!!\n",
    "\n",
    "$\\to$ No matter how we try to draw a dividing plane, there will always be a point outside the tetrahedron that doesn't fit the coloring rule. This shows that with 5 points in 3D space, a 3D perceptron can't always divide them cleanly into two groups. That's why its breakpoint is 5!!!\n",
    "\n",
    "<font color='yellow'><b>Therefore, the closet answer is: [b] $5$.</b></font>"
   ]
  },
  {
   "cell_type": "markdown",
   "metadata": {},
   "source": [
    "## Growth Function"
   ]
  },
  {
   "cell_type": "markdown",
   "metadata": {},
   "source": [
    "### 5. Which of the following are possible formulas for a growth function $m_H(N)$:\n",
    "\n",
    "1. $(1 + N)$\n",
    "2. $(1 + N + \\binom{N}{2})$\n",
    "3. $(\\sum_{i=1}^{\\lfloor \\sqrt N \\rfloor} \\binom{N}{i})$\n",
    "4. $(2^{\\lfloor N/2 \\rfloor})$\n",
    "5. $(2^N)$\n",
    "\n",
    "where $([u])$ is the biggest integer $(\\leq u)$, and $({{M} \\choose {m}} = 0)$ when $(m > M)$."
   ]
  },
  {
   "cell_type": "markdown",
   "metadata": {},
   "source": [
    "[a] i, v\n",
    "\n",
    "[b] i, ii, v\n",
    "\n",
    "[c] i, iv, v\n",
    "\n",
    "[d] i, ii, iii, v\n",
    "\n",
    "[e] i, ii, iii, iv, v"
   ]
  },
  {
   "cell_type": "markdown",
   "metadata": {},
   "source": [
    "## 5. Explanation and Answer\n",
    "<u><i><b>Explain</b></i></u>:\n",
    "\n",
    "As shown in class and video, the growth function $(m_H(N))$ for a hypothesis set $H$ is defined as the maximum number of dichotomies that the hypotheses in $H$ can produce for any $N$ instances.\n",
    "\n",
    "Analyze each formula:\n",
    "\n",
    "1. $1 + N$: This is a polynomial, which means it can represent a hypothesis set with linear complexity $\\to$ Growth Function.\n",
    "    - $ \\forall N, 1 +N \\leq 2^N$\n",
    "2. $1 + N + \\binom{N}{2}$: This function is a polynomial and includes a binomial coefficient term, which can represent the number of ways to choose 2 instances out of $N$ $\\to$ Growth Function.\n",
    "    - We use `Demonstration by Induction` to prove it: $1 + N + \\binom{N}{2} \\leq 2^N$\n",
    "**Proof by Induction:**\n",
    "\n",
    "We want to prove that for all $N \\geq 1$:\n",
    "\n",
    "$$1 + N + \\binom{N}{2} \\leq 2^N$$\n",
    "\n",
    "**Base Case:**\n",
    "When $N = 1$:\n",
    "\n",
    "$$\n",
    "1 + 1 + \\binom{1}{2} = 1 + 1 + 0 = 2 \\leq 2^1 = 2\n",
    "$$\n",
    "\n",
    "So, the base case holds true.\n",
    "\n",
    "**Inductive Hypothesis:**\n",
    "Assume that for some $k$, $1 + k + \\binom{k}{2} \\leq 2^k$ is true.\n",
    "\n",
    "**Inductive Step:**\n",
    "Prove it for $k + 1$:\n",
    "\n",
    "$$\n",
    "\\begin{align*}\n",
    "1 + (k + 1) + \\binom{k + 1}{2} &= 1 + k + 1 + \\frac{(k + 1)k}{2} \\\\\n",
    "&= (1 + k + \\frac{k(k + 1)}{2}) + 1 \\\\\n",
    "&= (1 + k + \\binom{k}{2}) + 1 \\\\\n",
    "&\\leq 2^k + 1 \\quad \\text{(by the inductive hypothesis)} \\\\\n",
    "&\\leq 2^k + 2^k \\quad \\text{(since $1 \\leq 2^k$ for all $k \\geq 0$)} \\\\\n",
    "&= 2 \\cdot 2^k \\\\\n",
    "&= 2^{k+1} \\\\\n",
    "&= 2^{(k+1)}\n",
    "\\end{align*}\n",
    "$$\n",
    "\n",
    "Therefore, the inequality holds for $N = k + 1$ if it holds for $N = k$.\n",
    "\n",
    "By the principle of mathematical induction, the inequality $1 + N + \\binom{N}{2} \\leq 2^N$ is true for all $N \\geq 1$.\n",
    "\n",
    "3. $\\sum_{i=1}^{\\lfloor \\sqrt N \\rfloor} \\binom{N}{i}$: This function sums up the number of ways to choose $i$ instances out of $N$ for $i$ up to the square root of $N$. It's not a growth function because this function is not a polynominal and $ \\geq 2^N$. The growth function should be able to count all dichotomies, not just those up to a certain limit.\n",
    "4. $2^{\\lfloor N/2 \\rfloor}$: This function represents the number of ways to divide $N$ instances into two equal-sized sets. It's not a growth function because this function is not a polynominal and $ \\geq 2^N$. The growth function should be able to count all dichotomies, not just those that divide the instances into two equal-sized sets.\n",
    "5. $2^N$: This function represents the total number of dichotomies for $N$ instances, which is the maximum possible number of dichotomies $\\to$ Growth Function.\n",
    "\n",
    "So, the correct answer is [b] i, ii, v.\n",
    "\n",
    "<font color='yellow'><b>Therefore, the closet answer is: [b] $i, ii, v$.</b></font>"
   ]
  },
  {
   "cell_type": "markdown",
   "metadata": {},
   "source": [
    "## Fun with Intervals"
   ]
  },
  {
   "cell_type": "markdown",
   "metadata": {},
   "source": [
    "### 6. Consider the \"2-intervals\" learning model, where $h$: $ \\mathbb{R} \\to \\{−1,1\\} $ and $h(x) = +1$ if the point is within either of two arbitrarily chosen intervals and −1 otherwise. \n",
    "What is the (smallest) break point for this hypothesis set?\n",
    "\n",
    "[a] 3\n",
    "\n",
    "[b] 4\n",
    "\n",
    "[c] 5\n",
    "\n",
    "[d] 6\n",
    "\n",
    "[e] 7"
   ]
  },
  {
   "cell_type": "markdown",
   "metadata": {},
   "source": [
    "## 6. Explanation and Answer\n",
    "<u><i><b>Explain</b></i></u>:\n",
    "\n",
    "In the \"2-intervals\" learning model, a hypothesis $h$ maps a real number $x$ to either +1 or -1. The value is +1 if $x$ falls within either of two chosen intervals and -1 otherwise.\n",
    "\n",
    "A breakpoint is the smallest number of points that cannot be shattered by a hypothesis set. To \"shatter\" a set of points means to realize every possible combination of binary labels for those points.\n",
    "\n",
    "For up to 4 points, I can always find a way to label them such that they can be shattered by the \"2-intervals\" model. This is because I can choose two intervals that cover any combination of these points.\n",
    "\n",
    "However, when I have 5 points, there's at least one way to label them that the \"2-intervals\" model cannot shatter. Specifically, if I label the points as +1, -1, +1, -1, +1 from left to right, there's no way to choose two intervals that will result in this labeling. This is because the negative points (-1) are surrounded by positive points (+1), and we can't capture this pattern with just 2 intervals.\n",
    "\n",
    "<font color='yellow'><b>Therefore, the closet answer is: [c] $5$.</b></font>"
   ]
  },
  {
   "cell_type": "markdown",
   "metadata": {},
   "source": [
    "### 7. Which of the following is the growth function $m_H(N)$ for the \"2-intervals\" hypothesis set?\n",
    "\n",
    "[a] $\\binom{N+1}{4}$\n",
    "\n",
    "[b] $\\binom{N+1}{2} + 1$\n",
    "\n",
    "[c] $\\binom{N+1}{4} + \\binom{N+1}{2} + 1$\n",
    "\n",
    "[d] $\\binom{N+1}{4} + \\binom{N+1}{3} + \\binom{N+1}{2} + 1$\n",
    "\n",
    "[e] None of the above"
   ]
  },
  {
   "cell_type": "markdown",
   "metadata": {},
   "source": [
    "## 7. Explanation and Answer\n",
    "<u><i><b>Explain</b></i></u>:\n",
    "\n",
    "For each hypothesis, we can choose two points to form an interval. Since we have \"2-intervals\", we can choose 4 points $ \\to \\binom{N+1}{4}$ ways. \n",
    "\n",
    "We can also form hypotheses with a single interval or no intervals at all. The number of ways to choose two points to form a single interval is $\\binom{N+1}{2}$. \n",
    "\n",
    "There is one hypothesis with no intervals (all points are -1) $ \\to $ we add 1. \n",
    "\n",
    "<font color='yellow'><b>Therefore, the closet answer is: [c] $\\binom{N+1}{4} + \\binom{N+1}{2} + 1$.</b></font>"
   ]
  },
  {
   "cell_type": "markdown",
   "metadata": {},
   "source": [
    "### 8. Now, consider the general case: the \"M-intervals\" learning model. Again $h$ :\n",
    "$ \\mathbb{R} \\to \\{−1,1\\} $, where $h(x) = +1$ if the point falls inside any of $M$ arbitrarily\n",
    "chosen intervals, otherwise $h(x) = −1$. What is the (smallest) break point of\n",
    "this hypothesis set?\n",
    "\n",
    "[a] $M$\n",
    "\n",
    "[b] $M + 1$\n",
    "\n",
    "[c] $M^2$\n",
    "\n",
    "[d] $2M + 1$\n",
    "\n",
    "[e] $2M − 1$"
   ]
  },
  {
   "cell_type": "markdown",
   "metadata": {},
   "source": [
    "## 8. Explanation and Answer\n",
    "<u><i><b>Explain</b></i></u>:\n",
    "\n",
    "Consider a set of 2M + 1 points on the real line. No matter how we arrange these points, there will always be at least one configuration of labels that the \"M-intervals\" hypothesis cannot capture. For example, if we label the points as +1, -1, +1, -1, ..., +1 (alternating +1 and -1 for 2M points) and then add one more +1 point, there is no way to choose M intervals such that all the +1 points are inside the intervals and all the -1 points are outside. \n",
    "\n",
    "However, any set of 2M points can be shattered by the \"M-intervals\" hypothesis set. This is because for any configuration of labels, we can always choose M intervals to correctly classify all points.\n",
    "\n",
    "<font color='yellow'><b>Therefore, the closet answer is: [d] $2M + 1$.</b></font>"
   ]
  },
  {
   "cell_type": "markdown",
   "metadata": {},
   "source": [
    "## Convex Sets: The Triangle"
   ]
  },
  {
   "cell_type": "markdown",
   "metadata": {},
   "source": [
    "### 9. Consider the \"triangle\" learning model, where $h$ : $\\mathbb{R}^2 \\rightarrow \\{-1,+1\\}$ and $h(x) = +1$ if $x$ lies within an arbitrarily chosen triangle in the plane and -1 otherwise. \n",
    "Which is the largest number of points in $\\mathbb{R}^2$ (among the given choices) that can be shattered by this hypothesis set?\n",
    "\n",
    "[a] 1\n",
    "\n",
    "[b] 3\n",
    "\n",
    "[c] 5\n",
    "\n",
    "[d] 7\n",
    "\n",
    "[e] 9\n"
   ]
  },
  {
   "cell_type": "markdown",
   "metadata": {},
   "source": [
    "## 9. Explanation and Answer\n",
    "<u><i><b>Explain</b></i></u>:\n",
    "\n",
    "With 7 points in the plane, it's possible to arrange them in a way that a triangle can classify all possible labelings of these points. i can create a scenario where for any labeling (some points marked as +1 and some as -1), a triangle can be formed that includes the three points of the same label while excluding the other four.\n",
    "\n",
    "However, when we consider 8 points, such as arranging them in an octagon, it becomes impossible to choose a triangle that includes four non-adjacent points inside while leaving the other four outside. No matter how you position the triangle, there will always be a way to label the points that the triangle cannot correctly classify.\n",
    "\n",
    "This limitation with 8 points demonstrates that the \"triangle\" learning model cannot shatter every possible arrangement of 8 points in the plane, hence confirming that the largest number of points that can be shattered by this hypothesis set is indeed 7.\n",
    "\n",
    "Example: \n",
    "\n",
    "1. Arrange the 7 points in a hexagon-like shape.\n",
    "2. For any possible labeling of these points, it's possible to create a \"triangle\" that includes the 3 points of the same label while excluding the other 4.\n",
    "\n",
    "<font color='yellow'><b>Therefore, the closet answer is: [d] $7$.</b></font>"
   ]
  },
  {
   "cell_type": "markdown",
   "metadata": {},
   "source": [
    "## Non-Convex Sets: Concentric Circles"
   ]
  },
  {
   "cell_type": "markdown",
   "metadata": {},
   "source": [
    "### 10. Compute the growth function $(m_H(N)$ for the learning model made up of two concentric circles in $\\mathbb{R}^2$. Specifically, $H$ contains the functions which are +1 for \n",
    "\n",
    "$$a² ≤ x₁² + x₂² ≤ b²$$\n",
    "\n",
    "and −1 otherwise. The growth function is\n",
    "\n",
    "[a] $N+1$\n",
    "\n",
    "[b] $\\binom{N+1}{2} + 1$\n",
    "\n",
    "[c] $\\binom{N+1}{3} + 1$\n",
    "\n",
    "[d] $2N^2 + 1$\n",
    "\n",
    "[e] None of the above"
   ]
  },
  {
   "cell_type": "markdown",
   "metadata": {},
   "source": [
    "## 10. Explanation and Answer\n",
    "<u><i><b>Explain</b></i></u>:\n",
    "\n",
    "The problem of classifying points using concentric circles in $\\mathbb{R}^2$ can be thought of as a one-dimensional problem. This is because the classification depends only on the distance of a point from the origin, not on its angle or direction.\n",
    "\n",
    "The \"intervals\" are the regions between the two circles, and the boundaries of these intervals are determined by the radii of the circles (R1 and R2). Just like in a one-dimensional interval, the classification of a point depends only on whether its distance from the origin falls within the interval defined by R1 and R2.\n",
    "\n",
    "The hypothesis space $H$ of this learning model consists of dichotomies that can shatter any set of $N$ points arranged on a circle in $\\mathbb{R}^2$. The number of such dichotomies is $\\binom{N+1}{2} + 1$. Hence, the growth function $m_H(N)$ is $\\binom{N+1}{2} + 1$.\n",
    "\n",
    "This means that the hypothesis class $H$ can generate $\\binom{N+1}{2} + 1$ different dichotomies for any set of $N$ points on a circle.\n",
    "\n",
    "<font color='yellow'><b>Therefore, the closet answer is: [b] $\\binom{N+1}{2} + 1$.</b></font>"
   ]
  }
 ],
 "metadata": {
  "kernelspec": {
   "display_name": "Python 3 (ipykernel)",
   "language": "python",
   "name": "python3"
  },
  "language_info": {
   "codemirror_mode": {
    "name": "ipython",
    "version": 3
   },
   "file_extension": ".py",
   "mimetype": "text/x-python",
   "name": "python",
   "nbconvert_exporter": "python",
   "pygments_lexer": "ipython3",
   "version": "3.10.5"
  }
 },
 "nbformat": 4,
 "nbformat_minor": 1
}
