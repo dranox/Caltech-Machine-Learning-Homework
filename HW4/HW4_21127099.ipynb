{
 "cells": [
  {
   "cell_type": "markdown",
   "metadata": {},
   "source": [
    "Homework 4: https://www.work.caltech.edu/homework/hw4.pdf\n",
    "\n",
    "Solution key 4: https://www.work.caltech.edu/homework/hw4_sol.pdf"
   ]
  },
  {
   "cell_type": "markdown",
   "metadata": {},
   "source": [
    "# Homework 4\n",
    "\n",
    "\n",
    "- Student Name: Nguyễn Tấn Lộc\n",
    "- Student ID: 21127099\n",
    "\n",
    "---"
   ]
  },
  {
   "cell_type": "markdown",
   "metadata": {},
   "source": [
    "## References:\n",
    "\n",
    "Lecture 07 - The VC Dimension: https://youtu.be/Dc0sr0kdBVI\n",
    "\n",
    "Lecture 08 - Bias-Variance Tradeoff: https://youtu.be/zrEyxfl2-a8"
   ]
  },
  {
   "cell_type": "markdown",
   "metadata": {},
   "source": [
    "---"
   ]
  },
  {
   "cell_type": "markdown",
   "metadata": {},
   "source": [
    "### Import necessary libraries"
   ]
  },
  {
   "cell_type": "code",
   "execution_count": 101,
   "metadata": {},
   "outputs": [],
   "source": [
    "import math\n",
    "import matplotlib.pyplot as plt\n",
    "from scipy.optimize import brentq\n",
    "import numpy as np"
   ]
  },
  {
   "cell_type": "markdown",
   "metadata": {},
   "source": [
    "##  Generalization Error"
   ]
  },
  {
   "cell_type": "markdown",
   "metadata": {},
   "source": [
    "# 1 - 3"
   ]
  },
  {
   "cell_type": "markdown",
   "metadata": {},
   "source": [
    "In Problems 1-3, we look at generalization bounds numerically. For $N > d_{VC}$, use the simple approximate bound $N^{d_{VC}}$ for the growth function $m_{\\mathcal{H}}(N)$.\n",
    "\n"
   ]
  },
  {
   "cell_type": "markdown",
   "metadata": {},
   "source": [
    "### 1. For an $\\mathcal{H}$ with $d_{VC}$ = 10, if you want $95\\%$ confidence that your generalization error is at most 0.05\n",
    "What is the closest numerical approximation of the sample\n",
    "size that the VC generalization bound predicts?"
   ]
  },
  {
   "cell_type": "markdown",
   "metadata": {},
   "source": [
    "[a] 400,000\n",
    "\n",
    "[b] 420,000\n",
    "\n",
    "[c] 440,000\n",
    "\n",
    "[d] 460,000\n",
    "\n",
    "[e] 480,000"
   ]
  },
  {
   "cell_type": "markdown",
   "metadata": {},
   "source": [
    "## 1. Explanation and Answer\n",
    "<u><i><b>Explain</b></i></u>:\n",
    "\n",
    "The VC generalization bound is given by:\n",
    "\n",
    "$$\n",
    "\\epsilon \\leq \\sqrt{\\frac{8}{N} \\ln{\\frac{4m_{\\mathcal{H}}(2N)}{\\delta}}}\n",
    "$$\n",
    "\n",
    "where:\n",
    "- $\\epsilon$ is the generalization error\n",
    "- $N$ is the sample size\n",
    "- $m_{\\mathcal{H}}(N)$ is the growth function\n",
    "- $\\delta$ is the confidence parameter\n",
    "\n",
    "\n",
    "$$\n",
    "\\epsilon \\leq \\sqrt{\\frac{8}{N} \\ln{\\frac{4m_{\\mathcal{H}}(2N)}{\\delta}}} \n",
    "\\Leftrightarrow \n",
    "  N \\geq \\frac{8}{\\epsilon^2} \\ln \\left(\\frac{4m_{\\mathcal{H}}(2N)}{\\delta}\\right)\n",
    "$$\n",
    "\n",
    "<font color='yellow'><b>Therefore, the closet answer is: [d] 460,000.</b></font>\n"
   ]
  },
  {
   "cell_type": "code",
   "execution_count": 102,
   "metadata": {},
   "outputs": [],
   "source": [
    "def m_H(N,d):\n",
    "    return N**d"
   ]
  },
  {
   "cell_type": "code",
   "execution_count": 103,
   "metadata": {},
   "outputs": [
    {
     "name": "stdout",
     "output_type": "stream",
     "text": [
      "VC Bounds: [-0.002972765965385371, -0.0017859326997057556, -0.0006788100777323711, 0.00035722109082931414, 0.0013295243038941099]\n",
      "Giá trị gần nhất với 0 trong danh sách: 0.00035722109082931414\n",
      "Phần tử tương ứng trong sample_sizes: [d]\n"
     ]
    }
   ],
   "source": [
    "def vc_bound(N, d, delta, epsilon):\n",
    "    bounds = []\n",
    "    for n in N.values():\n",
    "        bound = epsilon - math.sqrt((8/n) * math.log((4 * (m_H(2*n,d))) / delta))\n",
    "        bounds.append(bound)\n",
    "    return bounds\n",
    "\n",
    "sample_sizes = {'[a]': 4*10**5, '[b]': 42*10**4, '[c]': 44*10**4, '[d]': 46*10**4, '[e]': 48*10**4}\n",
    "vc_dimension = 10\n",
    "confidence = 0.05\n",
    "error_margin = 0.05\n",
    "\n",
    "result = vc_bound(sample_sizes, vc_dimension, confidence, error_margin)\n",
    "print(\"VC Bounds:\", result)\n",
    "\n",
    "closest_to_zero = min(result, key=lambda x: abs(x))\n",
    "index_of_closest = result.index(closest_to_zero)\n",
    "key_of_closest = list(sample_sizes.keys())[index_of_closest]\n",
    "print(\"Giá trị gần nhất với 0 trong danh sách:\", closest_to_zero)\n",
    "print(\"Phần tử tương ứng trong sample_sizes:\", key_of_closest)"
   ]
  },
  {
   "cell_type": "markdown",
   "metadata": {},
   "source": [
    "### 2. There are a number of bounds on the generalization error $\\epsilon$, all holding with probability at least $1−\\delta$. \n",
    "Fix $d_{VC} = 50$ and $\\delta = 0.05$ and plot these bounds as a\n",
    "function of $N$. Which bound is the smallest for very large $N$, say $N = 10, 000$?\n",
    "Note that **[c]** and **[d]** are implicit bounds in $\\epsilon$."
   ]
  },
  {
   "cell_type": "markdown",
   "metadata": {},
   "source": [
    "[a] Original VC bound: $\\epsilon \\leq \\sqrt{\\frac{8}{N} \\ln \\left(\\frac{4m_H(2N)}{\\delta}\\right)}$\n",
    "\n",
    "[b] Rademacher Penalty Bound: $\\epsilon \\leq \\sqrt{\\frac{2 \\ln(2Nm_H{N})}{N}} + \\sqrt{\\frac{2}{N}{\\ln\\left(\\frac{1}{\\delta}\\right)}}+ \\frac{1}{N}$\n",
    "\n",
    "[c] Parrondo and Van den Broek: $\\epsilon \\leq \\sqrt{\\frac{2\\epsilon + \\ln\\left(\\frac{6m_H(2N)}{\\delta}\\right)}{N}}$\n",
    "\n",
    "[d] Devroye: $\\epsilon \\leq \\sqrt{\\frac{4\\epsilon(1 + \\epsilon)+ \\ln\\left(\\frac{4m_H(N^2)}{\\delta}\\right)}{2N}}$\n",
    "\n",
    "[e] They are all equal.\n"
   ]
  },
  {
   "cell_type": "markdown",
   "metadata": {},
   "source": [
    "## 2. Explanation and Answer\n",
    "<u><i><b>Explain</b></i></u>:\n",
    "\n",
    "(Python code below)\n",
    "\n",
    "<font color='yellow'><b>Therefore, the smallest bound for $N=10,000$ is: [d] Devroye: $\\epsilon \\leq \\sqrt{\\frac{4\\epsilon(1 + \\epsilon)+ \\ln\\left(\\frac{4m_H(N^2)}{\\delta}\\right)}{2N}}$.</b></font>\n"
   ]
  },
  {
   "cell_type": "code",
   "execution_count": 104,
   "metadata": {},
   "outputs": [
    {
     "data": {
      "image/png": "[encoded data removed]",
      "text/plain": [
       "<Figure size 1600x800 with 1 Axes>"
      ]
     },
     "metadata": {},
     "output_type": "display_data"
    }
   ],
   "source": [
    "def calculate_vc(N, d=50, delta=0.05):\n",
    "    return math.sqrt((8/N)*math.log(4*m_H(2*N,d)/delta))\n",
    "\n",
    "def calculate_rademacher(N, d=50, delta=0.05):\n",
    "    return math.sqrt(2/N * math.log(2 * N * m_H(N,d))) + math.sqrt(2/N * math.log(1/delta)) + 1/N\n",
    "\n",
    "def calculate_parrondo(N, d=50, delta=0.05):\n",
    "    equation = lambda eps: math.sqrt(((2 * (eps)) + math.log(6 / delta * m_H(2*N,d))) / N) - eps\n",
    "    return brentq(equation,-10,10)\n",
    "\n",
    "def calculate_devroye(N, d=50, delta=0.05):\n",
    "    equation = lambda eps: math.sqrt(1/(2*N)*((4*eps*(1 + eps)) + 2*math.log(2*m_H(N,d)/math.sqrt(delta)))) - eps\n",
    "    return brentq(equation,-10,10)\n",
    "    \n",
    "sample_sizes = range(1000,11000,1000)\n",
    "vc_values = [calculate_vc(N) for N in sample_sizes]\n",
    "rademacher_values = [calculate_rademacher(N) for N in sample_sizes]\n",
    "parrondo_values = [calculate_parrondo(N) for N in sample_sizes]\n",
    "devroye_values = [calculate_devroye(N) for N in sample_sizes]\n",
    "\n",
    "plt.figure(1, figsize=(20, 10), dpi=80)\n",
    "plt.plot(sample_sizes, vc_values, 'ro-', label='VC')\n",
    "plt.plot(sample_sizes, rademacher_values, 'go-', label='Rademacher Penalty Bound')\n",
    "plt.plot(sample_sizes, parrondo_values, 'bo-', label='Parrondo and Van den Broek')\n",
    "plt.plot(sample_sizes, devroye_values, 'co-', label='Devroye')\n",
    "plt.title(r'$d_{vc}=50$, $\\delta=0.05$')\n",
    "plt.xlabel(r'Sample Size $N$')\n",
    "plt.ylabel(r'$\\epsilon$ Bound')\n",
    "plt.legend()\n",
    "plt.show()\n"
   ]
  },
  {
   "cell_type": "markdown",
   "metadata": {},
   "source": [
    "### 3. For the same values of $d_{VC}$ and $\\delta$ of Problem 2, but for small $N$, say $N = 5$, which bound is the smallest?"
   ]
  },
  {
   "cell_type": "markdown",
   "metadata": {},
   "source": [
    "[a] Original VC bound: $\\epsilon \\leq \\sqrt{\\frac{8}{N} \\ln \\left(\\frac{4m_H(2N)}{\\delta}\\right)}$\n",
    "\n",
    "[b] Rademacher Penalty Bound: $\\epsilon \\leq \\sqrt{\\frac{2 \\ln(2Nm_H{N})}{N}} + \\sqrt{\\frac{2}{N}{\\ln\\left(\\frac{1}{\\delta}\\right)}}+ \\frac{1}{N}$\n",
    "\n",
    "[c] Parrondo and Van den Broek: $\\epsilon \\leq \\sqrt{\\frac{2\\epsilon + \\ln\\left(\\frac{6m_H(2N)}{\\delta}\\right)}{N}}$\n",
    "\n",
    "[d] Devroye: $\\epsilon \\leq \\sqrt{\\frac{4\\epsilon(1 + \\epsilon)+ \\ln\\left(\\frac{4m_H(N^2)}{\\delta}\\right)}{2N}}$\n",
    "\n",
    "[e] They are all equal."
   ]
  },
  {
   "cell_type": "markdown",
   "metadata": {},
   "source": [
    "## 3. Explanation and Answer\n",
    "<u><i><b>Explain</b></i></u>:\n",
    "\n",
    "(Python code below)\n",
    "\n",
    "<font color='yellow'><b>Therefore, the smallest bound for $N=5$ is: [c] Parrondo and Van den Broek: $\\epsilon \\leq \\sqrt{\\frac{2\\epsilon + \\ln\\left(\\frac{6m_H(2N)}{\\delta}\\right)}{N}}$.</b></font>\n"
   ]
  },
  {
   "cell_type": "code",
   "execution_count": 105,
   "metadata": {},
   "outputs": [
    {
     "data": {
      "image/png": "[encoded data removed]",
      "text/plain": [
       "<Figure size 800x480 with 1 Axes>"
      ]
     },
     "metadata": {},
     "output_type": "display_data"
    }
   ],
   "source": [
    "def calculate_vc(N, d=50, delta=0.05):\n",
    "    return math.sqrt((8/N)*math.log(4*m_H(2*N,d)/delta))\n",
    "\n",
    "def calculate_rademacher(N, d=50, delta=0.05):\n",
    "    return math.sqrt(2/N * math.log(2 * N * m_H(N,d))) + math.sqrt(2/N * math.log(1/delta)) + 1/N\n",
    "\n",
    "def calculate_parrondo(N, d=50, delta=0.05):\n",
    "    equation = lambda eps: math.sqrt(((2 * (eps)) + math.log(6 / delta * m_H(2*N,d))) / N) - eps\n",
    "    return brentq(equation,-10,10)\n",
    "\n",
    "def calculate_devroye(N, d=50, delta=0.05):\n",
    "    equation = lambda eps: math.sqrt(1/(2*N)*((4*eps*(1 + eps)) + 2*math.log(2*m_H(N,d)/math.sqrt(delta)))) - eps\n",
    "    return brentq(equation,-10,10)\n",
    "    \n",
    "sample_sizes = range(3,8) \n",
    "# If I use range(5) or range(1,6), I have bug :((( - If I use range(4,7) or higher, the smallest bound for N = 5 is Devroye. I'm so confusing \n",
    "vc_values = [calculate_vc(N) for N in sample_sizes]\n",
    "rademacher_values = [calculate_rademacher(N) for N in sample_sizes]\n",
    "parrondo_values = [calculate_parrondo(N) for N in sample_sizes]\n",
    "devroye_values = [calculate_devroye(N) for N in sample_sizes]\n",
    "\n",
    "plt.figure(1, figsize=(10, 6), dpi=80)\n",
    "plt.plot(sample_sizes, vc_values, 'ro-', label='VC')\n",
    "plt.plot(sample_sizes, rademacher_values, 'go-', label='Rademacher Penalty Bound')\n",
    "plt.plot(sample_sizes, parrondo_values, 'bo-', label='Parrondo and Van den Broek')\n",
    "plt.plot(sample_sizes, devroye_values, 'co-', label='Devroye')\n",
    "plt.title(r'$d_{vc}=50$, $\\delta=0.05$')\n",
    "plt.xlabel(r'Sample Size $N$')\n",
    "plt.ylabel(r'$\\epsilon$ Bound')\n",
    "plt.legend()\n",
    "plt.show()\n"
   ]
  },
  {
   "cell_type": "markdown",
   "metadata": {},
   "source": [
    "##  Bias and Variance"
   ]
  },
  {
   "cell_type": "markdown",
   "metadata": {},
   "source": [
    "# 4 - 7"
   ]
  },
  {
   "cell_type": "markdown",
   "metadata": {},
   "source": [
    "Consider the case where the target function $\\mathcal{f} : [−1, 1] \\to \\mathbb{R}$ is given by $\\mathcal{f}(x) = \\sin(\\pi x)$\n",
    "and the input probability distribution is uniform on $[−1, 1]$. Assume that the training\n",
    "set has only two examples (picked independently), and that the learning algorithm\n",
    "produces the hypothesis that minimizes the mean squared error on the examples."
   ]
  },
  {
   "cell_type": "markdown",
   "metadata": {},
   "source": [
    "### 4. Assume the learning model consists of all hypotheses of the form $\\mathcal{h}(x) = ax$.\n",
    "What is the expected value, $\\bar{\\mathbf{g}}(x)$, of the hypothesis produced by the learning\n",
    "algorithm (expected value with respect to the data set)? Express your $\\bar{\\mathbf{g}}(x)$ as\n",
    "$\\hat{a}x$, and round $\\hat{a}$ to two decimal digits only, then match exactly to one of the\n",
    "following answers"
   ]
  },
  {
   "cell_type": "markdown",
   "metadata": {},
   "source": [
    "[a] $\\bar{\\mathbf{g}}(x) = 0$\n",
    "\n",
    "[b] $\\bar{\\mathbf{g}}(x) = 0.79x$\n",
    "\n",
    "[c] $\\bar{\\mathbf{g}}(x) = 1.07x$\n",
    "\n",
    "[d] $\\bar{\\mathbf{g}}(x) = 1.58x$\n",
    "\n",
    "[e] None of the above"
   ]
  },
  {
   "cell_type": "markdown",
   "metadata": {},
   "source": [
    "## 4. Explanation and Answer\n",
    "<u><i><b>Explain</b></i></u>:\n",
    "\n",
    "$\\bar{\\mathbf{g}}(x) = \\hat{a} x$\n",
    "\n",
    "(Python code below)\n",
    "\n",
    "<font color='yellow'><b>Therefore, the expected value is: [e] None of  the above.</b></font>"
   ]
  },
  {
   "cell_type": "code",
   "execution_count": 106,
   "metadata": {},
   "outputs": [
    {
     "name": "stdout",
     "output_type": "stream",
     "text": [
      "a hat =  1.42\n"
     ]
    }
   ],
   "source": [
    "def calculate_a_hat():\n",
    "    avg_coefficient_a = 0\n",
    "\n",
    "    for _ in range(10000):\n",
    "        # Generating two random points\n",
    "        random_points = np.random.uniform(-1, 1, 2)  \n",
    "        \n",
    "        # Linear regression: h(x) = ax\n",
    "        X_matrix = np.array([random_points]).T\n",
    "        weights = np.linalg.inv(X_matrix.T @ X_matrix) @ X_matrix.T @ np.sin(np.pi * random_points)\n",
    "\n",
    "        avg_coefficient_a += weights[0]\n",
    "    \n",
    "    return avg_coefficient_a/10000\n",
    "    \n",
    "print(f'a hat = ', round(calculate_a_hat(),2))\n"
   ]
  },
  {
   "cell_type": "markdown",
   "metadata": {},
   "source": [
    "### 5.What is the closest value to the bias in this case?"
   ]
  },
  {
   "cell_type": "markdown",
   "metadata": {},
   "source": [
    "[a] 0.1\n",
    "\n",
    "[b] 0.3\n",
    "\n",
    "[c] 0.5\n",
    "\n",
    "[d] 0.7\n",
    "\n",
    "[e] 1.0"
   ]
  },
  {
   "cell_type": "markdown",
   "metadata": {},
   "source": [
    "\n",
    "## 5. Explanation and Answer\n",
    "<u><i><b>Explain</b></i></u>:\n",
    "\n",
    "Use $bias = E_\\mathbf{x}[(\\overline{g}(\\mathbf{x}) - f(\\mathbf{x}))^2]$\n",
    "$\\Leftrightarrow$\n",
    "$bias \\approx \\frac{1}{N} \\sum_{i=1}^{N} [(\\overline{g}(\\mathbf{x}_i) - f(\\mathbf{x}_i))^2]$\n",
    "\n",
    "${with} \\space N = 10000$\n",
    "\n",
    "(Python code below)\n",
    "\n",
    "<font color='yellow'><b>Therefore, the closet answer is: [b] $0.3$.</b></font>"
   ]
  },
  {
   "cell_type": "code",
   "execution_count": 107,
   "metadata": {},
   "outputs": [
    {
     "name": "stdout",
     "output_type": "stream",
     "text": [
      "Bias =  0.27\n"
     ]
    }
   ],
   "source": [
    "def calculate_bias():\n",
    "    random_points = np.random.uniform(-1,1,10000)\n",
    "    a_hat=calculate_a_hat()\n",
    "    return sum(((a_hat*random_points) - np.sin(np.pi * random_points))**2)/10000\n",
    "print(f'Bias = ',round(calculate_bias(),2))"
   ]
  },
  {
   "cell_type": "markdown",
   "metadata": {},
   "source": [
    "### 6. What is the closest value to the variance in this case?"
   ]
  },
  {
   "cell_type": "markdown",
   "metadata": {},
   "source": [
    "[a] 0.2\n",
    "\n",
    "[b] 0.4\n",
    "\n",
    "[c] 0.6\n",
    "\n",
    "[d] 0.8\n",
    "\n",
    "[e] 1.0"
   ]
  },
  {
   "cell_type": "markdown",
   "metadata": {},
   "source": [
    "## 6. Explanation and Answer\n",
    "<u><i><b>Explain</b></i></u>:\n",
    "\n",
    "Use $var = E_\\mathbf{x}[E_D[(g^{(D)}(x) - \\bar{g}(x))^2 ]]$\n",
    "\n",
    "(Python code below)\n",
    "\n",
    "<font color='yellow'><b>Therefore, the closet answer is: [a] $0.2$.</b></font>"
   ]
  },
  {
   "cell_type": "code",
   "execution_count": 108,
   "metadata": {},
   "outputs": [
    {
     "name": "stdout",
     "output_type": "stream",
     "text": [
      "Variance =  0.23\n"
     ]
    }
   ],
   "source": [
    "def calculate_variance():\n",
    "    variance = 0\n",
    "    a_hat=calculate_a_hat()\n",
    "    \n",
    "    \n",
    "    for _ in range(100):\n",
    "        random_points_1 = np.random.uniform(-1,1)\n",
    "        E_d = 0\n",
    "        \n",
    "        for _ in range(10):\n",
    "            # Generating two random points\n",
    "            random_points_2 = np.random.uniform(-1, 1, 2)\n",
    "\n",
    "            # Linear regression :h(x) = ax\n",
    "            X_matrix = np.array([random_points_2]).T\n",
    "            weights = np.linalg.inv(X_matrix.T @ X_matrix) @ X_matrix.T @ np.sin(np.pi * random_points_2)\n",
    "            \n",
    "\n",
    "            E_d += ((weights[0] * random_points_1) - (a_hat * random_points_1))**2 / 10\n",
    "\n",
    "        variance += E_d / 100\n",
    "    \n",
    "    return variance\n",
    "\n",
    "print(f'Variance = ',round(calculate_variance(),2))"
   ]
  },
  {
   "cell_type": "code",
   "execution_count": 109,
   "metadata": {},
   "outputs": [
    {
     "data": {
      "text/plain": [
       "0.5263865647780187"
      ]
     },
     "execution_count": 109,
     "metadata": {},
     "output_type": "execute_result"
    }
   ],
   "source": [
    "E_out = calculate_bias() + calculate_variance()\n",
    "E_out"
   ]
  },
  {
   "cell_type": "markdown",
   "metadata": {},
   "source": [
    "### 7.Now, let’s change $\\mathcal{H}$. Which of the following learning models has the least expected value of out-of-sample error?"
   ]
  },
  {
   "cell_type": "markdown",
   "metadata": {},
   "source": [
    "[a] Hypotheses of the form $h(x) = b$\n",
    "\n",
    "[b] Hypotheses of the form $h(x) = ax$\n",
    "\n",
    "[c] Hypotheses of the form $h(x) = ax + b$\n",
    "\n",
    "[d] Hypotheses of the form $h(x) = ax^2$\n",
    "\n",
    "[e] Hypotheses of the form $h(x) = ax^2 + b$"
   ]
  },
  {
   "cell_type": "markdown",
   "metadata": {},
   "source": [
    "## 7. Explanation and Answer\n",
    "<u><i><b>Explain</b></i></u>:\n",
    "\n",
    "(Python code below)\n",
    "\n",
    "[a] Hypotheses of the form $h(x) = b$: $E_{out} = 0.7446618760236795$\n",
    "\n",
    "[b] Hypotheses of the form $h(x) = ax$: $E_{out} = 0.5263865647780187$\n",
    "\n",
    "[c] Hypotheses of the form $h(x) = ax + b$: $E_{out} = 2.0444974392533246$\n",
    "\n",
    "[d] Hypotheses of the form $h(x) = ax^2$: $E_{out} = 8.565681581102702$\n",
    "\n",
    "[e] Hypotheses of the form $h(x) = ax^2 + b$: $E_{out} = 191.62361914916664$\n",
    "\n",
    "<font color='yellow'><b>Therefore, the closet answer is: [b] Hypotheses of the form $h(x) = ax$.</b></font>"
   ]
  },
  {
   "cell_type": "markdown",
   "metadata": {},
   "source": [
    "**<font color='orange'>$h(x) = b$</font>**"
   ]
  },
  {
   "cell_type": "code",
   "execution_count": 110,
   "metadata": {},
   "outputs": [
    {
     "name": "stdout",
     "output_type": "stream",
     "text": [
      "a hat (h(x) = b) =  -0.0031466597842326124\n",
      "Bias (h(x) = b) =  0.5\n",
      "Variance (h(x) = b) =  0.24\n",
      "E_out =  0.7446618760236795\n"
     ]
    }
   ],
   "source": [
    "def calculate_a_hat_a():\n",
    "    avg_coefficient_a = 0\n",
    "\n",
    "    for _ in range(10000):\n",
    "        # Generating two random points\n",
    "        random_points = np.random.uniform(-1, 1, 2)  \n",
    "        \n",
    "        # Linear regression: h(x) = b\n",
    "        X_matrix = np.array([np.ones(2)]).T\n",
    "        weights = np.linalg.inv(X_matrix.T @ X_matrix) @ X_matrix.T @ np.sin(np.pi * random_points)\n",
    "\n",
    "        avg_coefficient_a += weights[0]\n",
    "    \n",
    "    return avg_coefficient_a/10000\n",
    "    \n",
    "\n",
    "\n",
    "def calculate_bias_a():\n",
    "    random_points = np.random.uniform(-1,1,10000)\n",
    "    a_hat=calculate_a_hat_a()\n",
    "    return sum(((a_hat*random_points) - np.sin(np.pi * random_points))**2)/10000\n",
    "\n",
    "\n",
    "def calculate_variance_a():\n",
    "    variance = 0\n",
    "    a_hat=calculate_a_hat_a()\n",
    "    \n",
    "    \n",
    "    for _ in range(100):\n",
    "        E_d = 0\n",
    "        \n",
    "        for _ in range(10):\n",
    "            # Generating two random points\n",
    "            random_points_2 = np.random.uniform(-1, 1, 2)\n",
    "\n",
    "            # Linear regression :h(x) = b\n",
    "            X_matrix = np.array([np.ones(2)]).T\n",
    "            weights = np.linalg.inv(X_matrix.T @ X_matrix) @ X_matrix.T @ np.sin(np.pi * random_points_2)\n",
    "            \n",
    "\n",
    "            E_d += ((weights[0]) - (a_hat))**2 / 10\n",
    "\n",
    "        variance += E_d / 100\n",
    "    \n",
    "    return variance\n",
    "\n",
    "print(f'a hat (h(x) = b) = ', calculate_a_hat_a())\n",
    "print(f'Bias (h(x) = b) = ',round(calculate_bias_a(),2))\n",
    "print(f'Variance (h(x) = b) = ', round(calculate_variance_a(),2))\n",
    "print(f'E_out = ',(calculate_bias_a()+calculate_variance_a()))"
   ]
  },
  {
   "cell_type": "markdown",
   "metadata": {},
   "source": [
    "**<font color='orange'>$h(x) = ax$</font>** (solve below)\n",
    "\n",
    "*a hat (h(x) = ax) =  1.42*\n",
    "\n",
    "*Bias (h(x) = ax) =  0.28*\n",
    "\n",
    "*Variance (h(x) = ax) = 0.22*\n",
    "\n",
    "$\\to E_{out} = 0.51$"
   ]
  },
  {
   "cell_type": "markdown",
   "metadata": {},
   "source": [
    "**<font color='orange'>$h(x) = ax + b$</font>**"
   ]
  },
  {
   "cell_type": "code",
   "execution_count": 111,
   "metadata": {},
   "outputs": [
    {
     "name": "stdout",
     "output_type": "stream",
     "text": [
      "h(x) = ax + b\n",
      "a hat =  (0.7691053194064202, -0.002091183636139453)\n",
      "Bias =  0.2040500613526592\n",
      "Variance =  1.79\n",
      "E_out =  2.0444974392533246\n"
     ]
    }
   ],
   "source": [
    "def calculate_a_hat_c():\n",
    "    avg_coefficient_a = 0\n",
    "    avg_coefficient_b = 0\n",
    "\n",
    "    for _ in range(10000):\n",
    "        # Generating two random points\n",
    "        random_points = np.random.uniform(-1, 1, 2)  \n",
    "        \n",
    "        # Linear regression: h(x) = ax + b\n",
    "        X_matrix = np.array([np.ones(2),random_points]).T\n",
    "        weights = np.linalg.inv(X_matrix.T @ X_matrix) @ X_matrix.T @ np.sin(np.pi * random_points)\n",
    "\n",
    "        b,a = weights\n",
    "        avg_coefficient_a +=a\n",
    "        avg_coefficient_b+=b\n",
    "    \n",
    "    return avg_coefficient_a/10000,avg_coefficient_b/10000\n",
    "    \n",
    "\n",
    "\n",
    "def calculate_bias_c():\n",
    "    random_points = np.random.uniform(-1,1,10000)\n",
    "    a_hat,b_hat=calculate_a_hat_c()\n",
    "    return sum(((a_hat*random_points+b_hat) - np.sin(np.pi * random_points))**2)/10000\n",
    "    \n",
    "\n",
    "\n",
    "def calculate_variance_c():\n",
    "    variance = 0\n",
    "    a_hat,b_hat=calculate_a_hat_c()\n",
    "    \n",
    "    \n",
    "    for _ in range(100):\n",
    "        random_points_1 = np.random.uniform(-1,1)\n",
    "        E_d = 0\n",
    "        \n",
    "        for _ in range(10):\n",
    "            # Generating two random points\n",
    "            random_points_2 = np.random.uniform(-1, 1, 2)\n",
    "\n",
    "            # Linear regression :h(x) = ax + b\n",
    "            X_matrix = np.array([np.ones(2),random_points_2]).T\n",
    "            weights = np.linalg.inv(X_matrix.T @ X_matrix) @ X_matrix.T @ np.sin(np.pi * random_points_2)\n",
    "            b,a=weights\n",
    "\n",
    "            E_d += ((a * random_points_1 + b) - (a_hat * random_points_1 + b_hat))**2 / 10\n",
    "\n",
    "        variance += E_d / 100\n",
    "    \n",
    "    return variance\n",
    "\n",
    "print(f'h(x) = ax + b')\n",
    "print(f'a hat = ', calculate_a_hat_c())\n",
    "print(f'Bias = ',calculate_bias_c())\n",
    "print(f'Variance = ',round(calculate_variance_c(),2))\n",
    "print(f'E_out = ',(calculate_bias_c()+calculate_variance_c()))"
   ]
  },
  {
   "cell_type": "markdown",
   "metadata": {},
   "source": [
    "**<font color='orange'>$h(x) = ax^2$</font>**"
   ]
  },
  {
   "cell_type": "code",
   "execution_count": 112,
   "metadata": {},
   "outputs": [
    {
     "name": "stdout",
     "output_type": "stream",
     "text": [
      "h(x) = ax^2\n",
      "a hat =  -0.07302170439231914\n",
      "Bias =  0.5021702719800409\n",
      "Variance =  31.6\n",
      "E_out =  8.565681581102702\n"
     ]
    }
   ],
   "source": [
    "def calculate_a_hat_d():\n",
    "    avg_coefficient_a = 0\n",
    "\n",
    "    for _ in range(10000):\n",
    "        # Generating two random points\n",
    "        random_points = np.random.uniform(-1, 1, 2)  \n",
    "        \n",
    "        # Linear regression: h(x) = ax^2\n",
    "        X_matrix = np.array([random_points*random_points]).T\n",
    "        weights = np.linalg.inv(X_matrix.T @ X_matrix) @ X_matrix.T @ np.sin(np.pi * random_points)\n",
    "\n",
    "        avg_coefficient_a+=weights[0]\n",
    "    \n",
    "    return avg_coefficient_a/10000\n",
    "    \n",
    "\n",
    "\n",
    "def calculate_bias_d():\n",
    "    random_points = np.random.uniform(-1,1,10000)\n",
    "    a_hat=calculate_a_hat_d()\n",
    "    return sum(((a_hat*random_points*random_points) - np.sin(np.pi * random_points))**2)/10000\n",
    "    \n",
    "\n",
    "\n",
    "def calculate_variance_d():\n",
    "    variance = 0\n",
    "    a_hat=calculate_a_hat_d()\n",
    "    \n",
    "    \n",
    "    for _ in range(100):\n",
    "        random_points_1 = np.random.uniform(-1,1)\n",
    "        E_d = 0\n",
    "        \n",
    "        for _ in range(10):\n",
    "            # Generating two random points\n",
    "            random_points_2 = np.random.uniform(-1, 1, 2)\n",
    "\n",
    "            # Linear regression :h(x) = ax^2\n",
    "            X_matrix = np.array([random_points_2*random_points_2]).T\n",
    "            weights = np.linalg.inv(X_matrix.T @ X_matrix) @ X_matrix.T @ np.sin(np.pi * random_points_2)\n",
    "\n",
    "            E_d += ((weights[0] * (random_points_1*random_points_1)) - (a_hat * (random_points_1*random_points_1)))**2 / 10\n",
    "\n",
    "        variance += E_d / 100\n",
    "    \n",
    "    return variance\n",
    "\n",
    "print(f'h(x) = ax^2')\n",
    "print(f'a hat = ', calculate_a_hat_d())\n",
    "print(f'Bias = ',calculate_bias_d())\n",
    "print(f'Variance = ',round(calculate_variance_d(),2))\n",
    "print(f'E_out = ',(calculate_bias_d()+calculate_variance_d()))"
   ]
  },
  {
   "cell_type": "markdown",
   "metadata": {},
   "source": [
    "**<font color='orange'>$h(x) = ax^2+b$</font>**"
   ]
  },
  {
   "cell_type": "code",
   "execution_count": 113,
   "metadata": {},
   "outputs": [
    {
     "name": "stdout",
     "output_type": "stream",
     "text": [
      "h(x) = ax^2 + b\n",
      "a hat =  (-17.753739419112538, 0.16982882568388383)\n",
      "Bias =  355.8309101367379\n",
      "Variance =  622.4783810391938\n",
      "E_out =  191.62361914916664\n"
     ]
    }
   ],
   "source": [
    "def calculate_a_hat_e():\n",
    "    avg_coefficient_a = 0\n",
    "    avg_coefficient_b = 0\n",
    "\n",
    "    for _ in range(10000):\n",
    "        # Generating two random points\n",
    "        random_points = np.random.uniform(-1, 1, 2)  \n",
    "        \n",
    "        # Linear regression: h(x) = ax^2 + b\n",
    "        X_matrix = np.array([np.ones(2),random_points*random_points]).T\n",
    "        weights = np.linalg.inv(X_matrix.T @ X_matrix) @ X_matrix.T @ np.sin(np.pi * random_points)\n",
    "\n",
    "        b,a = weights\n",
    "        avg_coefficient_a +=a\n",
    "        avg_coefficient_b+=b\n",
    "    \n",
    "    return avg_coefficient_a/10000,avg_coefficient_b/10000\n",
    "    \n",
    "\n",
    "\n",
    "def calculate_bias_e():\n",
    "    random_points = np.random.uniform(-1,1,10000)\n",
    "    a_hat,b_hat=calculate_a_hat_e()\n",
    "    return sum(((a_hat*random_points**2+b_hat) - np.sin(np.pi * random_points))**2)/10000\n",
    "    \n",
    "\n",
    "\n",
    "def calculate_variance_e():\n",
    "    variance = 0\n",
    "    a_hat,b_hat=calculate_a_hat_e()\n",
    "    \n",
    "    \n",
    "    for _ in range(100):\n",
    "        random_points_1 = np.random.uniform(-1,1)\n",
    "        E_d = 0\n",
    "        \n",
    "        for _ in range(10):\n",
    "            # Generating two random points\n",
    "            random_points_2 = np.random.uniform(-1, 1, 2)\n",
    "\n",
    "            # Linear regression :h(x) = ax^2 + b\n",
    "            X_matrix = np.array([np.ones(2),random_points_2*random_points_2]).T\n",
    "            weights = np.linalg.inv(X_matrix.T @ X_matrix) @ X_matrix.T @ np.sin(np.pi * random_points_2)\n",
    "            b,a=weights\n",
    "\n",
    "            E_d += ((a * random_points_1**2 + b) - (a_hat * random_points_1**2 + b_hat))**2 / 10\n",
    "\n",
    "        variance += E_d / 100\n",
    "    \n",
    "    return variance\n",
    "\n",
    "print(f'h(x) = ax^2 + b')\n",
    "print(f'a hat = ', calculate_a_hat_e())\n",
    "print(f'Bias = ',calculate_bias_e())\n",
    "print(f'Variance = ',calculate_variance_e())\n",
    "print(f'E_out = ',(calculate_bias_e()+calculate_variance_e()))"
   ]
  },
  {
   "cell_type": "markdown",
   "metadata": {},
   "source": [
    "## VC Dimension"
   ]
  },
  {
   "cell_type": "markdown",
   "metadata": {},
   "source": [
    "### 8. Assume $q \\geq 1$ is an integer and let $m_{\\mathcal{H}}(1) = 2$. \n",
    "What is the VC dimension of a hypothesis set whose growth function satisfies: $m_{\\mathcal{H}}(N+1) = 2m_{\\mathcal{H}}(N) - {N \\choose q}$? Recall that ${M \\choose m} = 0$ when $m > M$.\n",
    "\n",
    "\n",
    "[a] q - 2\n",
    "\n",
    "[b] q - 1\n",
    "\n",
    "[c] q\n",
    "\n",
    "[d] q + 1\n",
    "\n",
    "[e] None of the above\n"
   ]
  },
  {
   "cell_type": "markdown",
   "metadata": {},
   "source": [
    "## 8. Explanation and Answer\n",
    "<u><i><b>Explain</b></i></u>:\n",
    "\n",
    "\n",
    "$$m_{\\mathcal{H}}(N+1) = 2m_{\\mathcal{H}}(N) - {N \\choose q}$$\n",
    "\n",
    "$d_{VC}$, is such that $m_{\\mathcal{H}}(d_{VC}) < 2^{d_{VC}}$ and $m_{\\mathcal{H}}(d_{VC}+1) = 2^{d_{VC}}$.\n",
    "\n",
    "Solving for $d_{VC}$:\n",
    "\n",
    "$$m_{\\mathcal{H}}(d_{VC}+1) = 2m_{\\mathcal{H}}(d_{VC}) - {d_{VC} \\choose q}$$\n",
    "\n",
    "Setting $m_{\\mathcal{H}}(d_{VC}+1) = 2^{d_{VC}}$ gives:\n",
    "\n",
    "$$2^{d_{VC}} = 2 \\cdot 2^{d_{VC}-1} - {d_{VC} \\choose q}$$\n",
    "$$2^{d_{VC}} = 2^{d_{VC}} - {d_{VC} \\choose q}$$\n",
    "$${d_{VC} \\choose q} = 0$$\n",
    "$$\\to q > d_{VC}$$\n",
    "\n",
    "<font color='yellow'><b>Therefore, the correct answer is: [c] $q$.</b></font>"
   ]
  },
  {
   "cell_type": "markdown",
   "metadata": {},
   "source": [
    "### 9. Because the question is too long, I didn't write out the question, I only wrote the explanation and the answer. Thank you, teacher.\n"
   ]
  },
  {
   "cell_type": "markdown",
   "metadata": {},
   "source": [
    "## 9. Explanation and Answer\n",
    "<u><i><b>Explain</b></i></u>:\n",
    "\n",
    "The VC dimension of the intersection of several hypothesis sets is at least 0 and at most the minimum of the VC dimensions of the individual hypothesis sets. Therefore, the correct and tightest bound is option [b]. Option [a] is not the tightest bound because the sum of the VC dimensions of the individual hypothesis sets could be larger than the minimum. Option [c], [d], [e] are wrong upper bound.\n",
    "\n",
    "<font color='yellow'><b>Therefore, the closet answer is: [b].</b></font>"
   ]
  },
  {
   "cell_type": "markdown",
   "metadata": {},
   "source": [
    "### 10. Because the question is too long, I didn't write out the question, I only wrote the explanation and the answer. Thank you, teacher."
   ]
  },
  {
   "cell_type": "markdown",
   "metadata": {},
   "source": [
    "## 10. Explanation and Answer\n",
    "<u><i><b>Explain</b></i></u>:\n",
    "I have reference: https://nbviewer.org/github/homefish/edX_Learning_From_Data_2017/blob/master/homework_4/homework_4_problem_9_10_VC_dimension.ipynb\n",
    "\n",
    "Given two singleton hypothesis sets, $H_1$ and $H_2$, with VC dimensions of 0 each, their union ($H_1 \\cup H_2$) exhibits a VC dimension of 1, capable of shattering one point but failing with two points.\n",
    "\n",
    "To determine the upper bound of VC dimension for $\\bigcup_{k=1}^{2} H_k$, two approaches were considered:\n",
    "\n",
    "- (i) Summing individual VC dimensions: $\\sum_{k=1}^{2} d_{vc}(H_k) = 0 + 0 = 0$, which doesn't match the VC dimension of 1 for the union.\n",
    "- (ii) Using $K - 1 + \\sum_{k=1}^{K} d_{vc}(H_k)$: $2 - 1 + 0 + 0 = 1$, matching the VC dimension of the union.\n",
    "\n",
    "Therefore, options **10[b]** and **10[e]** remain.\n",
    "\n",
    "For the lower bound of the union of hypothesis sets $\\bigcup_{k=1}^{K} H_k$, the maximum VC dimension $d_{vc}^{max}$ from this union always shatters $d_{vc}^{max}$ points. Hence, $d_{vc}^{max}$ serves as a lower bound for $d_{vc}(\\bigcup_{k=1}^{K} H_k)$.\n",
    "\n",
    "\n",
    "<font color='yellow'><b>Therefore, the closet answer is: [e].</b></font>"
   ]
  }
 ],
 "metadata": {
  "kernelspec": {
   "display_name": "Python 3 (ipykernel)",
   "language": "python",
   "name": "python3"
  },
  "language_info": {
   "codemirror_mode": {
    "name": "ipython",
    "version": 3
   },
   "file_extension": ".py",
   "mimetype": "text/x-python",
   "name": "python",
   "nbconvert_exporter": "python",
   "pygments_lexer": "ipython3",
   "version": "3.10.5"
  }
 },
 "nbformat": 4,
 "nbformat_minor": 1
}
