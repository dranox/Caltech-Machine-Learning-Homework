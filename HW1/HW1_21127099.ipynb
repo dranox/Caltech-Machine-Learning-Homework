{
 "cells": [
  {
   "cell_type": "markdown",
   "metadata": {},
   "source": [
    "Homework 1: https://www.work.caltech.edu/homework/hw1.pdf\n",
    "\n",
    "Solution key 1: https://www.work.caltech.edu/homework/hw1_sol.pdf"
   ]
  },
  {
   "cell_type": "markdown",
   "metadata": {},
   "source": [
    "# Homework 1\n",
    "\n",
    "\n",
    "- Student Name: Nguyễn Tấn Lộc\n",
    "- Student ID: 21127099\n",
    "\n",
    "---"
   ]
  },
  {
   "cell_type": "markdown",
   "metadata": {},
   "source": [
    "## References:\n",
    "\n",
    "Lecture 01 - The Learning Problem: https://youtu.be/mbyG85GZ0PI\n",
    "\n",
    "Lecture 02 - Is Learning Feasible?: https://youtu.be/MEG35RDD7RA"
   ]
  },
  {
   "cell_type": "markdown",
   "metadata": {},
   "source": [
    "---"
   ]
  },
  {
   "cell_type": "markdown",
   "metadata": {},
   "source": [
    "## The Learning Problem"
   ]
  },
  {
   "cell_type": "markdown",
   "metadata": {},
   "source": [
    "### 1. What types of Machine Learning, if any, best describe the following three scenarios: "
   ]
  },
  {
   "cell_type": "markdown",
   "metadata": {},
   "source": [
    "(i) A coin classification system is created for a vending machine. The developers obtain exact coin specifications from the U.S. Mint and derive a statistical model of the size, weight, and denomination, which the vending machine then uses to classify coins.\n",
    "\n",
    "(ii) Instead of calling the U.S. Mint to obtain coin information, an algorithm is presented with a large set of labeled coins. The algorithm uses this data to infer decision boundaries which the vending machine then uses to classify its coins.\n",
    "\n",
    "(iii) A computer develops a strategy for playing Tic-Tac-Toe by playing repeatedly and djusting its strategy by penalizing moves that eventually lead to losing.\n",
    "\n",
    "---\n",
    "<font color='blue'><b>Choose the correct answer:</b></font>\n",
    "\n",
    "[a] (i) Supervised Learning, (ii) Unsupervised Learning, (iii) Reinforcement\n",
    "Learning\n",
    "\n",
    "[b] (i) Supervised Learning, (ii) Not learning, (iii) Unsupervised Learning\n",
    "\n",
    "[c] (i) Not learning, (ii) Reinforcement Learning, (iii) Supervised Learning\n",
    "\n",
    "[d] (i) Not learning, (ii) Supervised Learning, (iii) Reinforcement Learning\n",
    "\n",
    "[e] (i) Supervised Learning, (ii) Reinforcement Learning, (iii) Unsupervised\n",
    "Learning"
   ]
  },
  {
   "cell_type": "markdown",
   "metadata": {},
   "source": [
    "## 1. Explanation and Answer\n",
    "<u><i><b>Explain</b></i></u>:\n",
    "\n",
    "(i) <u>Not learning</u>: A coin classification system created for a vending machine using exact coin specifications from the U.S. Mint is not a learning system. It’s using predefined rules based on known specifications, so it’s not learning from data.\n",
    "\n",
    "(ii) <u>Supervised Learning</u>: The algorithm is learning from labeled data to make predictions or decisions. Therefore, an algorithm that infers decision boundaries from a large set of labeled coins is Supervised Learning. \n",
    "\n",
    "(iii) <u>Reinforcement Learning</u>: A computer that develops a strategy for playing Tic-Tac-Toe by playing repeatedly and adjusting its strategy by penalizing moves that eventually lead to losing is Reinforcement Learning. The system learns to make decisions based on the consequences of previous actions.\n",
    "\n",
    "<font color='yellow'><b>Therefore, the correct answer is: [d] (i) Not learning, (ii) Supervised Learning, (iii) Reinforcement Learning.</b></font>\n"
   ]
  },
  {
   "cell_type": "markdown",
   "metadata": {},
   "source": [
    "### 2. Which of the following problems are best suited for Machine Learning?"
   ]
  },
  {
   "cell_type": "markdown",
   "metadata": {},
   "source": [
    "(i) Classifying numbers into primes and non-primes.\n",
    "\n",
    "(ii) Detecting potential fraud in credit card charges.\n",
    "\n",
    "(iii) Determining the time it would take a falling object to hit the ground.\n",
    "\n",
    "(iv) Determining the optimal cycle for traffic lights in a busy intersection.\n",
    "\n",
    "---\n",
    "<font color='blue'><b>Choose the correct answer:</b></font>\n",
    "\n",
    "[a] (ii) and (iv)\n",
    "\n",
    "[b] (i) and (ii)\n",
    "\n",
    "[c] (i), (ii), and (iii)\n",
    "\n",
    "[d] (iii)\n",
    "\n",
    "[e] (i) and (iii)"
   ]
  },
  {
   "cell_type": "markdown",
   "metadata": {},
   "source": [
    "## 2. Explanation and Answer\n",
    "<u><i><b>Explain</b></i></u>:\n",
    "\n",
    "(i) <u>Classifying numbers into primes and non-primes</u>: In my opinion, this problem involves mathematical rules and doesn't necessarily require machine learning. It can be solved using traditional algorithms.\n",
    "\n",
    "(ii) <u>Detecting potential fraud in credit card charges</u>: Machine learning is well-suited for this problem as it involves analyzing large datasets (BIG DATA - massive amount of data) of credit card transactions to identify patterns and anomalies. $\\to$ It involves recognizing patterns in BIG DATA and making predictions based on those patterns.\n",
    "\n",
    "(iii) <u>Determining the time it would take a falling object to hit the ground</u>: I think this is a physics problem that can be solved using classical equations of motion, and it doesn't require machine learning.\n",
    "\n",
    "(iv) <u>Determining the optimal cycle for traffic lights in a busy intersection</u>: This problem can benefit from machine learning, as it involves optimizing traffic control based on real-time data, traffic patterns, and congestion. -> The system could learn from traffic patterns at different times of day to optimize the light cycle.\n",
    "\n",
    "<font color='yellow'><b>Therefore, the correct answer is: [a] (ii) and (iv).</b></font>"
   ]
  },
  {
   "cell_type": "markdown",
   "metadata": {},
   "source": [
    "## Bins and Marbles"
   ]
  },
  {
   "cell_type": "markdown",
   "metadata": {},
   "source": [
    "### 3. We have 2 opaque bags, each containing 2 balls.\n",
    "One bag has 2 black balls and the other has a black ball and a white ball. You pick a bag at random and then pick one of the balls in that bag at random. When you look at the ball, it is black. You now pick the second ball from that same bag. What is the probability that this ball is also black?\n",
    "\n",
    "---\n",
    "<font color='blue'><b>Choose the correct answer:</b></font>\n",
    "\n",
    "[a] 1/4\n",
    "\n",
    "[b] 1/3\n",
    "\n",
    "[c] 1/2\n",
    "\n",
    "[d] 2/3\n",
    "\n",
    "[e] 3/4"
   ]
  },
  {
   "cell_type": "markdown",
   "metadata": {},
   "source": [
    "## 3. Explanation and Answer\n",
    "<u><i><b>Explain</b></i></u>:\n",
    "\n",
    "I define 3 `events`:\n",
    "\n",
    "A: I picked the bag with 2 black balls.\n",
    "\n",
    "B: I picked the bag with 1 black and 1 white ball.\n",
    "\n",
    "C: I picked a black ball on the first draw.\n",
    "\n",
    "I want to find the probability of picking a second black ball. This can be expressed as `P(A|C)` (The probability of event A given that event C has occurred).\n",
    "\n",
    "Using <b><i>Bayes' Theorem</i></b>, I can calculate this probability:\n",
    "\n",
    "$$P(A|C) = \\frac{P(C|A)P(A)}{P(C)}$$\n",
    "\n",
    "P(C|A) $\\to$ The probability of picking a black ball from the bag with 2 black balls, $\\to P(C|A) = 1.$\n",
    "\n",
    "P(A) $\\to$ The probability of picking the bag with 2 black balls initially. Since I randomly choose one of the two bags, $P(A) = 1/2$.\n",
    "\n",
    "P(C|B) $\\to$ The probability of picking a black ball from the bag with 1 black and 1 white ball, $\\to P(C|B) = 1/2$.\n",
    "\n",
    "P(B) $\\to$ The probability of picking the bag with 1 black and 1 white ball initially. Like P(A), $\\to P(B) = 1/2$.\n",
    "\n",
    "P(C) $\\to$ The probability of picking a black ball on the first draw. \n",
    "\n",
    "$P(C) = P(C|A) \\times P(A) + P(C|B) \\times P(B) = (1 \\times \\frac{1}{2}) + (\\frac{1}{2} \\times \\frac{1}{2}) = \\frac{1}{2} + \\frac{1}{4} = \\frac{3}{4}.$\n",
    "\n",
    "$$ \\to P(A|C) = \\frac{P(C|A)P(A)}{P(C)} = \\frac{1 \\times \\frac{1}{2}}{\\frac{3}{4}} = \\frac{2}{3}$$\n",
    "\n",
    "<font color='yellow'><b>Therefore, the correct answer is: [d] 2/3.</b></font>"
   ]
  },
  {
   "cell_type": "markdown",
   "metadata": {},
   "source": [
    "---\n",
    "\n",
    "Consider a sample of 10 marbles drawn from a bin containing red and green marbles. \n",
    "\n",
    "The probability that any marble we draw is red is µ = 0:55 (independently, with replacement). \n",
    "\n",
    "We address the probability of getting no red marbles (ν = 0) in the following cases:"
   ]
  },
  {
   "cell_type": "markdown",
   "metadata": {},
   "source": [
    "### 4. We draw only one such sample."
   ]
  },
  {
   "cell_type": "markdown",
   "metadata": {},
   "source": [
    "Compute the probability that ν = 0. The closest answer is (‘closest answer’ means: `|your answer−given option|` is closest to 0):\n",
    "\n",
    "[a] $7.331 \\times 10^{−6}$\n",
    "\n",
    "[b] $3.405 \\times 10^{−4}$\n",
    "\n",
    "[c] $0.289$\n",
    "\n",
    "[d] $0.450$\n",
    "\n",
    "[e] $0.550$"
   ]
  },
  {
   "cell_type": "markdown",
   "metadata": {},
   "source": [
    "## 4. Explanation and Answer\n",
    "<u><i><b>Explain</b></i></u>:\n",
    "There are 2 explanation:\n",
    "\n",
    "1. Using \"brain\" probability:\n",
    "\n",
    "The probability of drawing a green marble is 1 - µ = 0.45. \n",
    "\n",
    "Since we are drawing the marbles with replacement, the draws are independent. \n",
    "\n",
    "The probability of not selecting any red marbles from a set of 10 marbles is the same as the probability of selecting only green marbles.\n",
    "\n",
    "Therefore, the probability of drawing 10 green marbles in a row is $0.45^{10}$. (Python code below)\n",
    "\n",
    "2. Using the binomial probability formula: X ~ B(n,p)\n",
    "\\begin{equation*}\n",
    "P(X = k)   = {n \\choose k} p^k (1-p)^{ n-k}\n",
    "\\end{equation*}\n",
    "\n",
    "\\begin{equation*}\n",
    "{n \\choose k}   = \\frac{n!}{k!(n-k)!}\n",
    "\\end{equation*}\n",
    "\n",
    "<font color='yellow'><b>$n = 10, k = 0, p = 0.55$</b></font>\n",
    "\n",
    "$\n",
    "\\to P(X = 0) = \\frac{10!}{0!(10 - 0)!} \\times 0.55^0 \\times (1-0.55)^{10-0} \\approx 3.405 \\times 10^{−4}\n",
    "$\n",
    "\n",
    "<font color='yellow'><b>Therefore, the closet answer is: [b] $3.405 \\times 10^{−4}$.</b></font>"
   ]
  },
  {
   "cell_type": "code",
   "execution_count": 58,
   "metadata": {},
   "outputs": [],
   "source": [
    "prob_1_green=0.45\n",
    "prob_1_red=0.55"
   ]
  },
  {
   "cell_type": "code",
   "execution_count": 59,
   "metadata": {},
   "outputs": [
    {
     "data": {
      "text/plain": [
       "0.00034050628916015635"
      ]
     },
     "execution_count": 59,
     "metadata": {},
     "output_type": "execute_result"
    }
   ],
   "source": [
    "prob_10_green=prob_1_green**10\n",
    "prob_10_green"
   ]
  },
  {
   "cell_type": "markdown",
   "metadata": {},
   "source": [
    "### 5. We draw 1,000 independent samples."
   ]
  },
  {
   "cell_type": "markdown",
   "metadata": {},
   "source": [
    "Compute the probability that (at least) one of the samples has ν = 0. The closest answer is:\n",
    "    \n",
    "[a] $7.331 \\times 10^{−6}$\n",
    "\n",
    "[b] $3.405 \\times 106{−4}$\n",
    "\n",
    "[c] $0.289$\n",
    "\n",
    "[d] $0.450$\n",
    "\n",
    "[e] $0.550$"
   ]
  },
  {
   "cell_type": "markdown",
   "metadata": {},
   "source": [
    "## 5. Explanation and Answer\n",
    "<u><i><b>Explain</b></i></u>: Using Complement Probability\n",
    "\n",
    "*P((at least) one of the samples has ν = 0) = 1 - P(no sample with ν = 0)* (Python code below)\n",
    "\n",
    "$P((at\\space least) \\space one \\space of  \\space the \\space samples \\space has \\space ν \\space = \\space 0) = 1 - (1 - 3.405 \\times 10^{-4}))^{1000}$\n",
    "\n",
    "or\n",
    "\n",
    "$P((at\\space least) \\space one \\space of  \\space the \\space samples \\space has \\space ν \\space = \\space 0) = 1 - (1 -  0.45 ^{10} )^{1000}$\n",
    "\n",
    "<font color='yellow'><b>Therefore, the closet answer is: [c] $0.289$.</b></font>"
   ]
  },
  {
   "cell_type": "code",
   "execution_count": 60,
   "metadata": {},
   "outputs": [
    {
     "data": {
      "text/plain": [
       "0.28863119784980995"
      ]
     },
     "execution_count": 60,
     "metadata": {},
     "output_type": "execute_result"
    }
   ],
   "source": [
    "#P(one sample with ν = 0) = prob_10_green\n",
    "prob_atLeast_1_sample = 1 - (1-prob_10_green) ** 1000\n",
    "\n",
    "prob_atLeast_1_sample"
   ]
  },
  {
   "cell_type": "markdown",
   "metadata": {},
   "source": [
    "## Feasibility of Learning"
   ]
  },
  {
   "cell_type": "markdown",
   "metadata": {},
   "source": [
    "---\n",
    "*(More Information about Boolean target function is in the HW1)*"
   ]
  },
  {
   "cell_type": "markdown",
   "metadata": {},
   "source": [
    "### 6. Which hypothesis g agrees the most with the possible target functions in terms of the above score?"
   ]
  },
  {
   "cell_type": "markdown",
   "metadata": {},
   "source": [
    "[a] g returns 1 for all three points.\n",
    "\n",
    "[b] g returns 0 for all three points.\n",
    "\n",
    "[c] g is the XOR function applied to x, i.e., if the number of 1s in x is odd, g returns 1; if it is even, g returns 0.\n",
    "\n",
    "[d] g returns the opposite of the XOR function: if the number of 1s is odd, it returns 0, otherwise returns 1.\n",
    "\n",
    "[e] They are all equivalent (equal scores for g in [a] through [d])."
   ]
  },
  {
   "cell_type": "markdown",
   "metadata": {},
   "source": [
    "## 6. Explanation and Answer\n",
    "<u><i><b>Explain</b></i></u>: Using Boolean target function (Python code below for each choose)\n",
    "\n",
    "|  f  |  x6 (101)  |  x7 (110)  |  x8 (111)  |\n",
    "|----|-----|-----|-----|\n",
    "| f1 |  0   |  0   |  0   |\n",
    "| f2 |  0   |  0   |  1   |\n",
    "| f3 |  0   |  1   |  0   |\n",
    "| f4 |  0   |  1   |  1   |\n",
    "| f5 |  1   |  0   |  0   |\n",
    "| f6 |  1   |  0   |  1   |\n",
    "| f7 |  1   |  1   |  0   |\n",
    "| f8 |  1   |  1   |  1   |\n",
    "\n",
    "*Details below*\n",
    "\n",
    "<font color='yellow'><b>Therefore, the correct answer is: [e] They are all equivalent (equal scores for g in [a] through [d]).</b></font>"
   ]
  },
  {
   "cell_type": "markdown",
   "metadata": {},
   "source": [
    "*Score = (# of target functions agreeing with hypothesis on all 3 points)×3 + (# of target functions agreeing with hypothesis on exactly 2 points)×2 + (# of target functions agreeing with hypothesis on exactly 1 point)×1 + (# of target functions agreeing with hypothesis on 0 points)×0.*"
   ]
  },
  {
   "cell_type": "markdown",
   "metadata": {},
   "source": [
    "[a] g returns 1 for all three points.\n",
    "\n",
    "|  f  |  x6 (101)  |  x7 (110)  |  x8 (111)  |\n",
    "|----|-----|-----|-----|\n",
    "| g |  1   |  1   |  1   |"
   ]
  },
  {
   "cell_type": "code",
   "execution_count": 61,
   "metadata": {},
   "outputs": [
    {
     "data": {
      "text/plain": [
       "12"
      ]
     },
     "execution_count": 61,
     "metadata": {},
     "output_type": "execute_result"
    }
   ],
   "source": [
    "zero_point = 0 # f1 isn't consistent with g at any point.\n",
    "one_point = 3 # f2 and f3 and f5 are consistent with g at only one point.\n",
    "two_points = 3 # f4 and f6 and f7 are consistent with g at exactly two points.\n",
    "three_points = 1 # f8 is consistent with g at all three points.\n",
    "\n",
    "score = three_points*3+two_points*2+one_point*1+zero_point*0\n",
    "score"
   ]
  },
  {
   "cell_type": "markdown",
   "metadata": {},
   "source": [
    "[b] g returns 0 for all three points.\n",
    "\n",
    "|  f  |  x6 (101)  |  x7 (110)  |  x8 (111)  |\n",
    "|----|-----|-----|-----|\n",
    "| g |  0   |  0   |  0   |"
   ]
  },
  {
   "cell_type": "code",
   "execution_count": 62,
   "metadata": {},
   "outputs": [
    {
     "data": {
      "text/plain": [
       "12"
      ]
     },
     "execution_count": 62,
     "metadata": {},
     "output_type": "execute_result"
    }
   ],
   "source": [
    "zero_point = 0 # f8 isn't is consistent with g at any point.\n",
    "one_point = 3 # f4 and f6 and f7 are consistent with g at only one point.\n",
    "two_points = 3 # f2 and f3 and f5 are consistent with g at exactly two points.\n",
    "three_points = 1 # f1 is consistent with g at all three points.\n",
    "\n",
    "score = three_points*3+two_points*2+one_point*1+zero_point*0\n",
    "score"
   ]
  },
  {
   "cell_type": "markdown",
   "metadata": {},
   "source": [
    "[c] g is the XOR function applied to x, i.e., if the number of 1s in x is odd, g returns 1; if it is even, g returns 0.\n",
    "\n",
    "|  f  |  x6 (101)  |  x7 (110)  |  x8 (111)  |\n",
    "|----|-----|-----|-----|\n",
    "| g |  0   |  0   |  1   |"
   ]
  },
  {
   "cell_type": "code",
   "execution_count": 63,
   "metadata": {},
   "outputs": [
    {
     "data": {
      "text/plain": [
       "12"
      ]
     },
     "execution_count": 63,
     "metadata": {},
     "output_type": "execute_result"
    }
   ],
   "source": [
    "zero_point = 0 # f7 isn't is consistent with g at any point.\n",
    "one_point = 3 # f3 and f5 and f8 are consistent with g at only one point.\n",
    "two_points = 3 # f1 and f4 and f6 are consistent with g at exactly two points.\n",
    "three_points = 1 # f2 is consistent with g at all three points.\n",
    "\n",
    "score = three_points*3+two_points*2+one_point*1+zero_point*0\n",
    "score"
   ]
  },
  {
   "cell_type": "markdown",
   "metadata": {},
   "source": [
    "[d] g returns the opposite of the XOR function: if the number of 1s is odd, it returns 0, otherwise returns 1.\n",
    "\n",
    "|  f  |  x6 (101)  |  x7 (110)  |  x8 (111)  |\n",
    "|----|-----|-----|-----|\n",
    "| g |  1   |  1   |  0   |"
   ]
  },
  {
   "cell_type": "code",
   "execution_count": 64,
   "metadata": {},
   "outputs": [
    {
     "data": {
      "text/plain": [
       "12"
      ]
     },
     "execution_count": 64,
     "metadata": {},
     "output_type": "execute_result"
    }
   ],
   "source": [
    "zero_point = 0 # f2 isn't is consistent with g at any point.\n",
    "one_point = 3 # f1 and f4 and f6 are consistent with g at only one point.\n",
    "two_points = 3 # f3 and f5 and f8 are consistent with g at exactly two points.\n",
    "three_points = 1 # f7 is consistent with g at all three points.\n",
    "\n",
    "score = three_points*3+two_points*2+one_point*1+zero_point*0\n",
    "score"
   ]
  },
  {
   "cell_type": "markdown",
   "metadata": {},
   "source": [
    "$ \\to They \\space are \\space all \\space equivalent.$"
   ]
  },
  {
   "cell_type": "markdown",
   "metadata": {},
   "source": [
    "## The Perceptron Learning Algorithm"
   ]
  },
  {
   "cell_type": "markdown",
   "metadata": {},
   "source": [
    "---\n",
    "*(More Information about Boolean target function is in the HW1)*"
   ]
  },
  {
   "cell_type": "markdown",
   "metadata": {},
   "source": [
    "### 7. Take N = 10.\n",
    "How many iterations does it take on average for the PLA to converge for N = 10 training points?\n",
    "\n",
    "Pick the value closest to your results\n",
    "(again, ‘closest’ means: `|your answer − given option|` is closest to 0).\n",
    "\n",
    "[a] 1\n",
    "\n",
    "[b] 15\n",
    "\n",
    "[c] 300\n",
    "\n",
    "[d] 5000\n",
    "\n",
    "[e] 10000"
   ]
  },
  {
   "cell_type": "markdown",
   "metadata": {},
   "source": [
    "### 8. Which of the following is closest to $P[f(x) \\neq g(x)]$ for N = 10?"
   ]
  },
  {
   "cell_type": "markdown",
   "metadata": {},
   "source": [
    "[a] 0.001\n",
    "\n",
    "[b] 0.01\n",
    "\n",
    "[c] 0.1\n",
    "\n",
    "[d] 0.5\n",
    "\n",
    "[e] 0.8"
   ]
  },
  {
   "cell_type": "markdown",
   "metadata": {},
   "source": [
    "### 9. Now, try N = 100."
   ]
  },
  {
   "cell_type": "markdown",
   "metadata": {},
   "source": [
    "How many iterations does it take on average for the PLA to converge for N = 100 training points? Pick the value closest to your results.\n",
    "\n",
    "[a] 50\n",
    "\n",
    "[b] 100\n",
    "\n",
    "[c] 500\n",
    "\n",
    "[d] 1000\n",
    "\n",
    "[e] 5000"
   ]
  },
  {
   "cell_type": "markdown",
   "metadata": {},
   "source": [
    "### 10. Which of the following is closest to $P[f(x) \\neq g(x)]$ for N = 10?"
   ]
  },
  {
   "cell_type": "markdown",
   "metadata": {},
   "source": [
    "[a] 0.001\n",
    "\n",
    "[b] 0.01\n",
    "\n",
    "[c] 0.1\n",
    "\n",
    "[d] 0.5\n",
    "\n",
    "[e] 0.8"
   ]
  },
  {
   "cell_type": "markdown",
   "metadata": {},
   "source": [
    "## 7-10. Explanation and Answer"
   ]
  },
  {
   "cell_type": "markdown",
   "metadata": {},
   "source": [
    "### Import necessary libraries"
   ]
  },
  {
   "cell_type": "code",
   "execution_count": 65,
   "metadata": {
    "collapsed": true
   },
   "outputs": [],
   "source": [
    "import numpy as np"
   ]
  },
  {
   "cell_type": "markdown",
   "metadata": {},
   "source": [
    "### Define functions"
   ]
  },
  {
   "cell_type": "markdown",
   "metadata": {},
   "source": [
    "The function generates `target_w`, the parameter vector of $f$"
   ]
  },
  {
   "cell_type": "code",
   "execution_count": 66,
   "metadata": {
    "collapsed": true
   },
   "outputs": [],
   "source": [
    "def generate_target_w():\n",
    "    \"\"\"\n",
    "    Generates target_w from two random, uniformly distributed points in [-1, 1] x [-1, 1].\n",
    "    \n",
    "    Returns\n",
    "    -------\n",
    "    target_w : numpy array, shape (3, 1) \n",
    "        The vector of parameters of f.\n",
    "    \"\"\"\n",
    "    # Generate two points from a uniform distribution over [-1, 1]x[-1, 1]\n",
    "    p1 = np.random.uniform(-1, 1, 2)\n",
    "    p2 = np.random.uniform(-1, 1, 2)\n",
    "    # Compute the target W from these two points\n",
    "    target_w = np.array([p1[1] * p2[0] - p1[0] * p2[1], p2[1] - p1[1], p1[0] - p2[0]]).reshape((-1, 1))\n",
    "    \n",
    "    return target_w"
   ]
  },
  {
   "cell_type": "markdown",
   "metadata": {},
   "source": [
    "The function generates a data set"
   ]
  },
  {
   "cell_type": "code",
   "execution_count": 67,
   "metadata": {
    "collapsed": true
   },
   "outputs": [],
   "source": [
    "def generate_data(N, target_w):\n",
    "    \"\"\"\n",
    "    Generates a data set by generating random inputs and then using target_w to generate the \n",
    "    corresponding outputs.\n",
    "    \n",
    "    Parameters\n",
    "    ----------\n",
    "    N : int\n",
    "        The number of examples.\n",
    "    target_w : numpy array, shape (3, 1) \n",
    "        The vector of parameters of f.\n",
    "    \n",
    "    Returns\n",
    "    -------\n",
    "    X : numpy array, shape (N, 3)\n",
    "        The matrix of input vectors (each row corresponds to an input vector); the first column of \n",
    "        this matrix is all ones.\n",
    "    Y : numpy array, shape (N, 1)\n",
    "        The vector of outputs.        \n",
    "    \"\"\"\n",
    "    X = np.random.uniform(-1, 1, (N, 2))\n",
    "    X = np.hstack((np.ones((N, 1)), X)) # Add 'ones' column\n",
    "    Y = np.sign(np.dot(X, target_w))\n",
    "    \n",
    "    return X, Y"
   ]
  },
  {
   "cell_type": "markdown",
   "metadata": {},
   "source": [
    "The function runs PLA"
   ]
  },
  {
   "cell_type": "code",
   "execution_count": 68,
   "metadata": {
    "collapsed": true
   },
   "outputs": [],
   "source": [
    "def run_PLA(X, Y):\n",
    "    \"\"\"\n",
    "    Runs Perceptron Learning Algorithm (PLA).\n",
    "\n",
    "    Parameters\n",
    "    ----------\n",
    "    X : numpy array, shape (N, 3)\n",
    "        The matrix of input vectors (each row corresponds to an input vector); the first column of \n",
    "        this matrix is all ones.\n",
    "    Y : numpy array, shape (N, 1)\n",
    "        The vector of outputs.\n",
    "\n",
    "    Returns\n",
    "    -------\n",
    "    w : numpy array, shape (3, 1) \n",
    "        The vector of parameters of g.\n",
    "    num_iterations : int\n",
    "        The number of iterations PLA takes to converge.\n",
    "    \"\"\"\n",
    "    w = np.zeros((X.shape[1], 1)) # Initialize w\n",
    "    iteration = 0\n",
    "    converged = False\n",
    "\n",
    "    while not converged:\n",
    "        converged = True  # We assume convergence unless an update is made\n",
    "        for i in range(X.shape[0]):\n",
    "            x = X[i, :].reshape(-1, 1)\n",
    "            y = Y[i, 0]\n",
    "            if np.sign(np.dot(x.T, w)) != y:\n",
    "                w = w + y * x\n",
    "                converged = False\n",
    "                iteration += 1\n",
    "\n",
    "    return w, iteration\n"
   ]
  },
  {
   "cell_type": "markdown",
   "metadata": {},
   "source": [
    "Main function"
   ]
  },
  {
   "cell_type": "code",
   "execution_count": 69,
   "metadata": {
    "collapsed": true
   },
   "outputs": [],
   "source": [
    "def main(N):\n",
    "    \"\"\"\n",
    "    Parameters\n",
    "    ----------\n",
    "    N : int\n",
    "        The number of training examples.\n",
    "    \"\"\"\n",
    "    num_runs = 1000\n",
    "    avg_num_iterations = 0.0 # The average number of iterations PLA takes to converge\n",
    "    avg_test_err = 0.0 # The average test error of g - the final hypothesis picked by PLA\n",
    "    \n",
    "    for r in range(num_runs):\n",
    "        # Generate target_w\n",
    "        target_w = generate_target_w()\n",
    "        \n",
    "        # Generate training set\n",
    "        X, Y = generate_data(N, target_w)\n",
    "        \n",
    "        # Run PLA to pick g\n",
    "        w, num_iterations = run_PLA(X, Y)\n",
    "        \n",
    "        # Generate test set\n",
    "        X_test, Y_test = generate_data(10000, target_w)\n",
    "        \n",
    "        # Test g\n",
    "        test_err = np.mean(np.sign(np.dot(X_test, w)) != Y_test)\n",
    "        \n",
    "        # Update average values\n",
    "        avg_num_iterations += (num_iterations * 1.0 / num_runs)\n",
    "        avg_test_err += (test_err * 1.0 / num_runs)\n",
    "    \n",
    "    # Print results\n",
    "    # print 'avg_num_iterations = %f' % (avg_num_iterations)\n",
    "    # print 'avg_test_err = %f' % (avg_test_err)\n",
    "    print('avg_num_iterations = %f' % (avg_num_iterations))\n",
    "    print('avg_test_err = %f' % (avg_test_err))"
   ]
  },
  {
   "cell_type": "markdown",
   "metadata": {},
   "source": [
    "### Run"
   ]
  },
  {
   "cell_type": "code",
   "execution_count": 70,
   "metadata": {},
   "outputs": [
    {
     "name": "stdout",
     "output_type": "stream",
     "text": [
      "avg_num_iterations = 10.907000\n",
      "avg_test_err = 0.107647\n"
     ]
    }
   ],
   "source": [
    "main(N=10) # We can use `main(10)`, but `main(N=10)` is clearer"
   ]
  },
  {
   "cell_type": "markdown",
   "metadata": {},
   "source": [
    "<font color='yellow'><b>Therefore, the closet answer of question 7 is: [b] 15.</b></font>\n",
    "\n",
    "<font color='yellow'><b>Therefore, the closet answer of question 8 is: [c] 0.1.</b></font>"
   ]
  },
  {
   "cell_type": "code",
   "execution_count": 71,
   "metadata": {},
   "outputs": [
    {
     "name": "stdout",
     "output_type": "stream",
     "text": [
      "avg_num_iterations = 136.539000\n",
      "avg_test_err = 0.013343\n"
     ]
    }
   ],
   "source": [
    "main(N=100)"
   ]
  },
  {
   "cell_type": "markdown",
   "metadata": {},
   "source": [
    "<font color='yellow'><b>Therefore, the closet answer of question 9 is: [b] 100.</b></font>\n",
    "\n",
    "<font color='yellow'><b>Therefore, the closet answer of question 10 is: [b] 0.01.</b></font>"
   ]
  }
 ],
 "metadata": {
  "kernelspec": {
   "display_name": "Python 3 (ipykernel)",
   "language": "python",
   "name": "python3"
  },
  "language_info": {
   "codemirror_mode": {
    "name": "ipython",
    "version": 3
   },
   "file_extension": ".py",
   "mimetype": "text/x-python",
   "name": "python",
   "nbconvert_exporter": "python",
   "pygments_lexer": "ipython3",
   "version": "3.10.5"
  }
 },
 "nbformat": 4,
 "nbformat_minor": 1
}
